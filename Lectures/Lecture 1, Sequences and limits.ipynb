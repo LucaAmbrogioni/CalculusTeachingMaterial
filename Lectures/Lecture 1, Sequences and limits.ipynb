{
 "cells": [
  {
   "cell_type": "code",
   "execution_count": 2,
   "metadata": {},
   "outputs": [],
   "source": [
    "import matplotlib.pyplot as plt\n",
    "import numpy as np"
   ]
  },
  {
   "cell_type": "markdown",
   "metadata": {},
   "source": [
    "# On the shoulders of geniuses...\n",
    "\n",
    "This course is not going to be easy but thanks to these two (and many other) people you will be able to understand it even if you are not a genius! \n",
    "\n",
    "<img src=\"https://www.biography.com/.image/t_share/MTE1ODA0OTcxNzM3MTIyMzE3/sir-isaac-newton-9422656-1-402.jpg\" alt=\"drawing\" width=\"200\"/> <img src=\"https://compote.slate.com/images/0bfe6ee8-301b-4a0c-a95e-4dd63648f362.jpg\" alt=\"drawing\" width=\"200\"/>\n",
    "\n",
    "This is not a small feat! Calculus gives you (mathematical) super powers! "
   ]
  },
  {
   "cell_type": "markdown",
   "metadata": {},
   "source": [
    "# ... and with the help of a snake\n",
    "\n",
    "Some of the concepts introduced in these lectures become clearer with the help of some programming. Therefore, theoretical concepts and derivation will be followed by blocks of Python code!\n",
    "\n",
    "<img src=\"https://www.python.org/static/opengraph-icon-200x200.png\" alt=\"drawing\" width=\"200\"/>"
   ]
  },
  {
   "cell_type": "markdown",
   "metadata": {},
   "source": [
    "# Sequences of numbers\n",
    "A sequence is a infinite ordered list of numbers.\n",
    "\n",
    "## Examples\n",
    "\n",
    "\n",
    "$$\n",
    "\\begin{aligned}\n",
    "&A = 1,2,3,4,5,6,7,\\ldots,n,\\ldots \\\\\n",
    "&B = 1,4,9,16,25,36,49,\\ldots,n^2,\\ldots \\\\\n",
    "&C = 1,\\frac{1}{2},\\frac{1}{3},\\frac{1}{4},\\frac{1}{5},\\frac{1}{6}\\frac{1}{7},\\ldots,\\frac{1}{n},\\ldots\n",
    "\\end{aligned}\n",
    "$$\n",
    "\n",
    "\n",
    "If $S$ is a sequence, $S_k$ is its $k$-th element. For example, in the previous examples:\n",
    "\n",
    "\n",
    "$$\n",
    "\\begin{aligned}\n",
    "&A_1 = 1 \\\\\n",
    "&B_4 = 16 \\\\\n",
    "&C_3 = \\frac{1}{3}\n",
    "\\end{aligned}\n",
    "$$\n",
    "\n"
   ]
  },
  {
   "cell_type": "code",
   "execution_count": 48,
   "metadata": {},
   "outputs": [
    {
     "data": {
      "text/plain": [
       "Text(0.5,1,'C_n = 1/n')"
      ]
     },
     "execution_count": 48,
     "metadata": {},
     "output_type": "execute_result"
    },
    {
     "data": {
      "image/png": "[encoded data removed]",
      "text/plain": [
       "<Figure size 1080x360 with 3 Axes>"
      ]
     },
     "metadata": {
      "needs_background": "light"
     },
     "output_type": "display_data"
    }
   ],
   "source": [
    "A = lambda n: n\n",
    "B = lambda n: n**2\n",
    "C = lambda n: 1/n\n",
    "\n",
    "int_range = range(1,20)\n",
    "f, (ax1, ax2, ax3) = plt.subplots(1, 3,figsize=(15,5))\n",
    "ax1.scatter(int_range, [A(n) for n in int_range], c=\"k\")\n",
    "ax1.set_title(\"A_n = n\")\n",
    "ax2.scatter(int_range, [B(n) for n in int_range], c=\"k\")\n",
    "ax2.set_title(\"B_n = n^2\")\n",
    "ax3.scatter(int_range, [C(n) for n in int_range], c=\"k\")\n",
    "ax3.set_title(\"C_n = 1/n\")"
   ]
  },
  {
   "cell_type": "markdown",
   "metadata": {},
   "source": [
    "# Limit of a sequence\n",
    "A sequence $S$ is said to have a limit if $S_n$ gets arbitrarily close to a number as $n$ increases. This means that given any small difference $\\epsilon$, we can always find a big enough number $N$ such that all the entries of the sequence with index bigger than $N$ are closer to the limit than $\\epsilon$. \n",
    "\n",
    "> The number $a$ is said to be the limit of the sequence $S$ if:\n",
    "For all numbers $\\epsilon$, there is an integer $N$ such that:\n",
    "$$\n",
    " |a - S_n| < \\epsilon\n",
    "$$\n",
    ">for all integers $n$ bigger than $N$.\n",
    "\n",
    "In this case we write:\n",
    "\n",
    "$$\n",
    "\\displaystyle\\lim_{n \\rightarrow \\infty} S_n = a\n",
    "$$"
   ]
  },
  {
   "cell_type": "markdown",
   "metadata": {},
   "source": [
    "### Example 1\n",
    "Consider the following sequence:\n",
    "$$\n",
    "C_n = \\dfrac{1}{n}\n",
    "$$\n",
    "It is intuitively clear that the limit of $C_n$ is zero as $\\frac{1}{n}$ becomes smaller and smaller as $n$ increases. \n",
    "\n",
    "Now let's try to prove this using the definition of limit. The definition says that for every possible value of $\\epsilon$, there is always an integer $N_\\epsilon$ such that the distance between $s_n$ and the limit $a$ is smaller than $\\epsilon$ for all $n$ bigger than $N_\\epsilon$.\n",
    "\n",
    "Let's pick epsilon to be $0.2$, then we want to find a integer $N_{0.2}$ such that:\n",
    "$$\n",
    "s_n = \\dfrac{1}{n} < 0.2\n",
    "$$\n",
    "for all integers $n$ bigger than $N_{0.1}$. It is easy to see that this is true when:\n",
    "$$\n",
    "N_{0.1} > \\dfrac{1}{0.2} = 5.\n",
    "$$\n",
    "This is visualized in the following figure:"
   ]
  },
  {
   "cell_type": "code",
   "execution_count": 41,
   "metadata": {},
   "outputs": [
    {
     "data": {
      "text/plain": [
       "(1, 39)"
      ]
     },
     "execution_count": 41,
     "metadata": {},
     "output_type": "execute_result"
    },
    {
     "data": {
      "image/png": "[encoded data removed]",
      "text/plain": [
       "<Figure size 432x288 with 1 Axes>"
      ]
     },
     "metadata": {
      "needs_background": "light"
     },
     "output_type": "display_data"
    }
   ],
   "source": [
    "M = 40\n",
    "int_range = range(1,M)\n",
    "epsilon = 0.2\n",
    "N = np.ceil(1/epsilon)\n",
    "plt.scatter(int_range, [C(n) for n in int_range], c=\"k\", label=\"Sequence\")\n",
    "plt.fill_between(int_range, -epsilon, epsilon, alpha = 0.2, color = \"b\")\n",
    "plt.axhline(0, c = \"k\", lw = 2, ls = \"--\", label=\"Limit\")\n",
    "plt.axvline(N, lw = 2, ls = \"-.\", label=\"N_{0.2}\", color = \"b\")\n",
    "plt.legend(loc=\"upper right\")\n",
    "plt.xlim(1,M-1)"
   ]
  },
  {
   "cell_type": "markdown",
   "metadata": {},
   "source": [
    "For any other possible value of $\\epsilon$, we can always find an $N_\\epsilon$ using the following formula:\n",
    "    \n",
    "$$\n",
    "N_\\epsilon = \\Big\\lceil \\dfrac{1}{\\epsilon} \\Big\\rceil\n",
    "$$\n",
    "\n",
    "where $\\lceil \\alpha \\rceil$ denotes the smallest integer bigger than $\\alpha$ (the so called ceiling of the number $\\alpha$). The following figure visualizes $N_\\epsilon$ for several values of $\\epsilon$. "
   ]
  },
  {
   "cell_type": "code",
   "execution_count": 49,
   "metadata": {},
   "outputs": [
    {
     "data": {
      "text/plain": [
       "(1, 39)"
      ]
     },
     "execution_count": 49,
     "metadata": {},
     "output_type": "execute_result"
    },
    {
     "data": {
      "image/png": "[encoded data removed]",
      "text/plain": [
       "<Figure size 432x288 with 1 Axes>"
      ]
     },
     "metadata": {
      "needs_background": "light"
     },
     "output_type": "display_data"
    }
   ],
   "source": [
    "M = 40\n",
    "int_range = range(1,M)\n",
    "epsilon1 = 0.2\n",
    "N1 = np.ceil(1/epsilon1)\n",
    "epsilon2 = 0.1\n",
    "N2 = np.ceil(1/epsilon2)\n",
    "epsilon3 = 0.05\n",
    "N3 = np.ceil(1/epsilon3)\n",
    "plt.scatter(int_range, [C(n) for n in int_range], c=\"k\", label=\"Sequence\")\n",
    "plt.fill_between(int_range, -epsilon1, epsilon1, alpha = 0.2, color = \"b\", label=\"epsilon_1\")\n",
    "plt.fill_between(int_range, -epsilon2, epsilon2, alpha = 0.2, color = \"r\", label=\"epsilon_2\")\n",
    "plt.fill_between(int_range, -epsilon3, epsilon3, alpha = 0.4, color = \"g\", label=\"epsilon_3\")\n",
    "plt.axhline(0, c = \"k\", lw = 2, ls = \"--\", label=\"Limit\")\n",
    "plt.axvline(N1, lw = 2, ls = \"-.\", label=\"N_{0.2}\", color = \"b\")\n",
    "plt.axvline(N2, lw = 2, ls = \"-.\", label=\"N_{0.1}\", color = \"r\")\n",
    "plt.axvline(N3, lw = 2, ls = \"-.\", label=\"N_{0.05}\", color = \"g\")\n",
    "plt.legend(loc=\"upper right\")\n",
    "plt.xlim(1,M-1)"
   ]
  },
  {
   "cell_type": "markdown",
   "metadata": {},
   "source": [
    "### Example 2 (Oscillating sequence)\n",
    "Consider the following sequence:\n",
    "$$\n",
    "D_n = \\dfrac{(-1)^n}{n}\n",
    "$$\n",
    "This is very similar to the previous sequence except that the sign of the $n$-th element is positive when $n$ is even (since $(-1)^{2k} = 1$) and negative when $n$ is odd (since $(-1)^{2k + 1} = -1$).\n",
    "\n",
    "Again, it is intuitive that the limit of this sequence is zero. The distance between the $n$-th element and its limit (zero) is:\n",
    "\n",
    "$$\n",
    "|s_n - 0| = \\Big|\\dfrac{(-1)^n}{n}\\Big| = |(-1)^n|\\cdot\\Big|\\dfrac{1}{n}\\Big| = \\dfrac{1}{n}\n",
    "$$\n",
    "\n",
    "This implies that we can use the same valus of $N_\\epsilon$ that we found in the previous example in order to prove the existence of the limit. "
   ]
  },
  {
   "cell_type": "code",
   "execution_count": 43,
   "metadata": {},
   "outputs": [
    {
     "data": {
      "text/plain": [
       "(1, 39)"
      ]
     },
     "execution_count": 43,
     "metadata": {},
     "output_type": "execute_result"
    },
    {
     "data": {
      "image/png": "[encoded data removed]",
      "text/plain": [
       "<Figure size 432x288 with 1 Axes>"
      ]
     },
     "metadata": {
      "needs_background": "light"
     },
     "output_type": "display_data"
    }
   ],
   "source": [
    "D = lambda n: (-1)**n/n\n",
    "\n",
    "plt.scatter(int_range, [D(n) for n in int_range], c=\"k\", label=\"Sequence\")\n",
    "plt.fill_between(int_range, -epsilon1, epsilon1, alpha = 0.2, color = \"b\", label=\"epsilon_1\")\n",
    "plt.fill_between(int_range, -epsilon2, epsilon2, alpha = 0.2, color = \"r\", label=\"epsilon_2\")\n",
    "plt.fill_between(int_range, -epsilon3, epsilon3, alpha = 0.4, color = \"g\", label=\"epsilon_3\")\n",
    "plt.axhline(0, c = \"k\", lw = 2, ls = \"--\", label=\"Limit\")\n",
    "plt.axvline(N1, lw = 2, ls = \"-.\", label=\"N_{0.2}\", color = \"b\")\n",
    "plt.axvline(N2, lw = 2, ls = \"-.\", label=\"N_{0.1}\", color = \"r\")\n",
    "plt.axvline(N3, lw = 2, ls = \"-.\", label=\"N_{0.05}\", color = \"g\")\n",
    "plt.legend(loc=\"upper right\")\n",
    "plt.xlim(1,M-1)"
   ]
  },
  {
   "cell_type": "markdown",
   "metadata": {},
   "source": [
    "### Example 2 (Weird sequence)\n",
    "\n",
    "A very counterintuitive property of sequences is that the behavior of any finite chunk of it does not tell you anything about the limit. For example, consider the following (weird) sequence:\n",
    "$$\n",
    "\\begin{equation}\n",
    "  E_n=\\begin{cases}\n",
    "    \\frac{n}{10}, & \\text{if n<10}.\\\\\n",
    "    \\frac{1}{n}, & \\text{otherwise}.\n",
    "  \\end{cases}\n",
    "\\end{equation}\n",
    "$$"
   ]
  },
  {
   "cell_type": "code",
   "execution_count": 45,
   "metadata": {},
   "outputs": [
    {
     "data": {
      "text/plain": [
       "(1, 39)"
      ]
     },
     "execution_count": 45,
     "metadata": {},
     "output_type": "execute_result"
    },
    {
     "data": {
      "image/png": "[encoded data removed]",
      "text/plain": [
       "<Figure size 432x288 with 1 Axes>"
      ]
     },
     "metadata": {
      "needs_background": "light"
     },
     "output_type": "display_data"
    }
   ],
   "source": [
    "E = lambda n: n/10 if n<10 else 1/n\n",
    "\n",
    "plt.scatter(int_range, [E(n) for n in int_range], c=\"k\", label=\"Sequence\")\n",
    "plt.fill_between(int_range, -epsilon1, epsilon1, alpha = 0.2, color = \"b\", label=\"epsilon_1\")\n",
    "plt.fill_between(int_range, -epsilon2, epsilon2, alpha = 0.2, color = \"r\", label=\"epsilon_2\")\n",
    "plt.fill_between(int_range, -epsilon3, epsilon3, alpha = 0.4, color = \"g\", label=\"epsilon_3\")\n",
    "plt.axhline(0, c = \"k\", lw = 2, ls = \"--\", label=\"Limit\")\n",
    "plt.legend(loc=\"upper right\")\n",
    "plt.xlim(1,M-1)"
   ]
  },
  {
   "cell_type": "markdown",
   "metadata": {},
   "source": [
    "In this example the first ten terms of the sequence seem to go to infinity but the following terms converge to zero. The take home message is: extrapolating from any finite number of terms of a sequence is a leap of faith!"
   ]
  },
  {
   "cell_type": "markdown",
   "metadata": {},
   "source": [
    "### Exercise\n",
    "#### 1.1\n",
    "Prove that the limit of \n",
    "\n",
    "$$\n",
    "S_n = \\dfrac{1}{n^2}\n",
    "$$ \n",
    "\n",
    "is zero. Specifically, for each $\\epsilon$ find a integer $N_\\epsilon$ such that for all $n > N_\\epsilon$:\n",
    "$$\n",
    "\\dfrac{1}{n^2} < \\epsilon.\n",
    "$$"
   ]
  },
  {
   "cell_type": "markdown",
   "metadata": {},
   "source": [
    "## Algebra of sequences and limits\n",
    "\n",
    "You can sum, subtract, multiply and divide sequences in the obvious (elementwise) way:\n",
    "\n",
    "$$\n",
    "\\begin{aligned}\n",
    "&(A + B)_n = A_n + B_n \\\\\n",
    "&(A - B)_n = A_n - B_n \\\\\n",
    "&(AB)_n = A_n B_n \\\\\n",
    "&\\Big(\\dfrac{A}{B}\\Big)_n = \\dfrac{A_n}{B_n}\n",
    "\\end{aligned}\n",
    "$$\n",
    "\n",
    "If $A$ and $B$ with limits $a$ and $b$ respectively, we have the following relationships between sums, differences, products and fractions of sequences and their respective limits:\n",
    "\n",
    "$$\n",
    "\\begin{aligned}\n",
    "&\\displaystyle\\lim_{n \\rightarrow \\infty} (A + B)_n = \\displaystyle\\lim_{n \\rightarrow \\infty} A_n + \\displaystyle\\lim_{n \\rightarrow \\infty} B_n = a + b\\\\\n",
    "&\\displaystyle\\lim_{n \\rightarrow \\infty} (A - B)_n = \\displaystyle\\lim_{n \\rightarrow \\infty} A_n - \\displaystyle\\lim_{n \\rightarrow \\infty} B_n = a - b \\\\\n",
    "&\\displaystyle\\lim_{n \\rightarrow \\infty} (AB)_n = (\\displaystyle\\lim_{n \\rightarrow \\infty} A_n)(\\displaystyle\\lim_{n \\rightarrow \\infty}  B_n) = a b \\\\\n",
    "&\\displaystyle\\lim_{n \\rightarrow \\infty} \\Big(\\dfrac{A}{B}\\Big)_n = \\dfrac{\\displaystyle\\lim_{n \\rightarrow \\infty}  A_n}{\\displaystyle\\lim_{n \\rightarrow \\infty}  B_n} = \\dfrac{a}{b}\n",
    "\\end{aligned}\n",
    "$$\n",
    "\n",
    "### Bonus exercise\n",
    "\n",
    "Prove these relations using the definition of limit."
   ]
  },
  {
   "cell_type": "markdown",
   "metadata": {},
   "source": [
    "## Asymptitic relations\n",
    "\n",
    "Asymptotic sequences have a very similar behavior when $n$ is very large. Two sequences $A$ and $B$ are said to be asymptotic when:\n",
    "$$\n",
    "\\displaystyle\\lim_{n \\rightarrow \\infty} \\frac{A_n}{B_n} = 1\n",
    "$$\n",
    "In this case, we write:\n",
    "$$\n",
    "A \\sim B\n",
    "$$\n",
    "Note that if $A$ and $B$ are asymptotic and have limits a and b respectively then $a = b$ since:\n",
    "$$\n",
    "\\displaystyle\\lim_{n \\rightarrow \\infty} \\dfrac{A_n}{B_n} =  \\dfrac{\\displaystyle\\lim_{n \\rightarrow \\infty} A_n}{\\displaystyle\\lim_{n \\rightarrow \\infty} B_n} = \\dfrac{a}{b}\n",
    "$$\n",
    "which is equal to one only if $a = b$.\n",
    "\n",
    "However, two sequences can be asymptotic even if they do not have a limit. For example, consider the two following sequences:\n",
    "$$\n",
    "\\begin{aligned}\n",
    "&A_n = 2n + n^2 \\\\\n",
    "&B_n = n^2\n",
    "\\end{aligned}\n",
    "$$\n",
    "Let's consider the limit of their ratio:\n",
    "$$\n",
    "\\displaystyle\\lim_{n \\rightarrow \\infty} \\dfrac{A_n}{B_n} = \\displaystyle\\lim_{n \\rightarrow \\infty}\\dfrac{2n + n^2}{n^2} = \\displaystyle\\lim_{n \\rightarrow \\infty}\\dfrac{2n}{n^2} + \\displaystyle\\lim_{n \\rightarrow \\infty}\\dfrac{n^2}{n^2} = 2 \\displaystyle\\lim_{n \\rightarrow \\infty}\\dfrac{1}{n} + \\displaystyle\\lim_{n \\rightarrow \\infty} 1 = 0 + 1 = 1\n",
    "$$\n",
    "since we know that $\\frac{1}{n}$ tends to zero. Therefore, $A_n$ and $B_n$ are asymptotic."
   ]
  },
  {
   "cell_type": "markdown",
   "metadata": {},
   "source": [
    "### Limits of ratios\n",
    "Asymptotic relations are very useful for computing limits of ratios of sequences. \n",
    "In fact, if $A \\sim C$ and $B \\sim D$ we have that:\n",
    "$$\n",
    "\\displaystyle\\lim_{n \\rightarrow \\infty} \\dfrac{A_n}{B_n} = \\displaystyle\\lim_{n \\rightarrow \\infty} \\dfrac{C_n}{D_n}\n",
    "$$\n",
    "This is useful because $C$ and $D$ can be much simpler than $A$ and $B$. Consider the following limit:\n",
    "$$\n",
    "\\displaystyle\\lim_{n \\rightarrow \\infty} \\dfrac{A_n}{B_n}\n",
    "$$\n",
    "where\n",
    "$$\n",
    "\\begin{aligned}\n",
    "&A_n = 3 + n + 4n^2\\\\\n",
    "&B_n = 1 + n^2\n",
    "\\end{aligned}\n",
    "$$\n",
    "Using the same computations we did in the previous section, we can see that:\n",
    "$$\n",
    "\\begin{aligned}\n",
    "&A_n \\sim C_n = 4 n^4\n",
    "&B_n \\sim D_n = n^2\n",
    "\\end{aligned}\n",
    "$$\n",
    "Therefore:\n",
    "$$\n",
    "\\displaystyle\\lim_{n \\rightarrow \\infty} \\dfrac{A_n}{B_n} = \\displaystyle\\lim_{n \\rightarrow \\infty} \\dfrac{3 + n + 4n^2}{1 + n^2} = \\displaystyle\\lim_{n \\rightarrow \\infty} \\dfrac{C_n}{D_n}= \\displaystyle\\lim_{n \\rightarrow \\infty} \\dfrac{4n^2}{n^2} = 4\n",
    "$$"
   ]
  },
  {
   "cell_type": "markdown",
   "metadata": {},
   "source": [
    "### Exercises\n",
    "#### 1.2\n",
    "\n",
    "Which of the following sequences have a limit?\n",
    "\n",
    "Find the limit of the following sequences (I suggest to use both python and some theoretical arguments):\n",
    "\n",
    "**a)** $A_n = \\dfrac{1}{n}$\n",
    "\n",
    "**b)** $B_n = 2 + \\dfrac{1}{n^2}$\n",
    "\n",
    "**c)** $C_n = 1 + \\dfrac{3}{n^2}$\n",
    "\n",
    "**d)** $D_n = \\dfrac{1 + (2 - 1)}{n^2}$\n",
    "\n",
    "**e)** $E_n = (0.5)^n$\n",
    "\n",
    "**f)** $F_n = 0.1 + (0.6)^n$\n",
    "\n",
    "**g)** $G_n = \\dfrac{(1 + n + 2n^2)}{(4n - n^2)}$\n",
    "\n",
    "**h)** $H_n = \\dfrac{(1 + n^2)}{n^4} + \\dfrac{(1 + 3 n^3)}{(2 + 3n + 2 n^3)}$\n"
   ]
  },
  {
   "cell_type": "markdown",
   "metadata": {},
   "source": [
    "## Finite and infinite sums\n",
    "\n",
    "### Finite sums\n",
    "We deal with finite sums since primary school, Some examples:\n",
    "- 1 + 1 = 2\n",
    "- 2 + 2 + 2 + 2 = 8\n",
    "It is convenient to have a symbol denoting a sum of a lot of terms:\n",
    "$$\n",
    "\\displaystyle\\sum_{n=0}^N a_n = a_0 + a_1 + \\dots + a_N\n",
    "$$\n",
    "\n",
    "#### The geometric sum\n",
    "The geometric sum is one of the most important example. It is defined as follows:\n",
    "$$\n",
    "S(r,N) = \\displaystyle\\sum_{n=0}^N r^n\n",
    "$$\n",
    "In this case, we can actually find a simple formula for the sum. The trick is to subtract two geometric sums one of which has been \"shifted\" by multipling with $r$. The result is that all but two of the terms in the series cancel out:\n",
    "$$\n",
    "\\begin{aligned}\n",
    " \\color{red}{S(r,N)} -  \\color{blue} {r S(r,N)} &=  \\color{red}{(r^0 + r^1 + r^2 + \\ldots + r^N)} - \\color{blue}{(r^1 + r^2 + r^3 + \\dots +r^{N+1})} \\\\\n",
    "&= \\color{red}{r^0} + (\\color{red}{r^1} - \\color{blue}{r^1}) + (\\color{red}{r^2} - \\color{blue}{r^2}) + \\ldots - \\color{blue}{r^{N+1}} \\\\\n",
    "&= \\color{red}{r^0} - \\color{blue}{r^{N+1}} \\\\\n",
    "&= 1 - r^{N+1}\n",
    "\\end{aligned}\n",
    "$$\n",
    "Therefore, we get the following algebraic equation:\n",
    "$$\n",
    "S(r,N) - r S(r,N) = 1 - r^{N+1} \n",
    "$$\n",
    "which can be easily solved giving us a formula for the geometric sum:\n",
    "$$\n",
    "S(r,N) = \\dfrac{1 - r^{N+1}}{1 - r}\n",
    "$$\n",
    "\n",
    "\n",
    "### Infinite sums\n",
    "An infinite sum is defined as the limit of a sequence of partial sums:\n",
    "\n",
    "$$\n",
    "\\displaystyle\\sum_{n=0}^\\infty a_n = \\displaystyle\\lim_{N \\rightarrow \\infty} \\sum_{n=0}^N a_n\n",
    "$$\n",
    "\n",
    "In other wods, the infinite sum is the limit of the following infinite sequence of partial sums):\n",
    "$$\n",
    "S = a_0, a_0 + a_1, a_0 + a_1 + a_2, \\ldots , \\sum_n^N a_n, \\dots\n",
    "$$\n",
    "Note that the limit does not always exist, in that case the infinite sum is said to be DIVERGENT. Conversely, if the sequence of partial sums has a limit the series is said to be CONVERGENT.\n",
    "\n",
    "Note that a series can be convergent only if the sequence of terms $a_n$ has zero as a limit ($a_n$ gets smaller and smaller). However, a series can be divergence even if $a_n$ goes to zero. For example, the following (harmonic) series is divergent:\n",
    "$$\n",
    "\\displaystyle\\lim_{N \\rightarrow \\infty} \\displaystyle\\sum_{n=1}^N \\dfrac{1}{n} = \\infty\n",
    "$$\n",
    "\n",
    "#### Example 1 (Infinite geometric sum with 0 < r < 1)\n",
    "The infinite geometric sum:\n",
    "$$\n",
    "S(r,\\infty) = \\displaystyle\\sum_{n=0}^\\infty r^n\n",
    "$$\n",
    "Using our previous formula for the finite geometric sum, we get:\n",
    "$$\n",
    "S(r,\\infty) = \\displaystyle\\lim_{N \\rightarrow \\infty} S(r,N) =\\displaystyle\\lim_{N \\rightarrow \\infty} \\dfrac{1 - r^{N+1}}{1 - r}\n",
    "$$\n",
    "We can compute this limit using our previous results on the limit of sums and product of sequences:\n",
    "$$\n",
    "\\displaystyle\\lim_{N \\rightarrow \\infty} \\dfrac{1 - r^{N+1}}{1 - r} = \\displaystyle\\lim_{N \\rightarrow \\infty} \\left( \\dfrac{1}{1 - r} - \\dfrac{r^{N+1}}{1 - r} \\right) = \\dfrac{1}{1 - r} + \\dfrac{1}{1 - r} \\displaystyle\\lim_{N \\rightarrow \\infty} r^{N+1}\n",
    "$$\n",
    "The term\n",
    "$$\n",
    "r^{N+1} = r \\cdot r \\cdot \\ldots \\cdot r \\quad (n \\enspace \\text{times})\n",
    "$$\n",
    "grows bigger and bigger if the absolute value of $r$ is bigger than $1$, while it shrinks to zero if it is smaller than one. In this latter case we get:\n",
    "$$\n",
    "S(r,\\infty) = \\dfrac{1}{1 - r} - \\dfrac{1}{1 - r} \\displaystyle\\lim_{N \\rightarrow \\infty} r^{N+1} = \\dfrac{1}{1 - r} - 0 =  \\dfrac{1}{1 - r}\n",
    "$$"
   ]
  },
  {
   "cell_type": "code",
   "execution_count": 9,
   "metadata": {},
   "outputs": [
    {
     "data": {
      "text/plain": [
       "(1, 39)"
      ]
     },
     "execution_count": 9,
     "metadata": {},
     "output_type": "execute_result"
    },
    {
     "data": {
      "image/png": "[encoded data removed]",
      "text/plain": [
       "<Figure size 432x288 with 1 Axes>"
      ]
     },
     "metadata": {
      "needs_background": "light"
     },
     "output_type": "display_data"
    }
   ],
   "source": [
    "r = 0.5\n",
    "S = lambda N: sum([r**n for n in range(N)])\n",
    "\n",
    "plt.scatter(int_range, [S(n) for n in int_range], c=\"k\", label=\"Sequence\")\n",
    "limit = 1/(1 - r)\n",
    "plt.fill_between(int_range, limit-epsilon1, limit+epsilon1, alpha = 0.2, color = \"b\", label=\"epsilon_1\")\n",
    "plt.fill_between(int_range, limit-epsilon2, limit+epsilon2, alpha = 0.2, color = \"r\", label=\"epsilon_2\")\n",
    "plt.fill_between(int_range, limit-epsilon3, limit+epsilon3, alpha = 0.4, color = \"g\", label=\"epsilon_3\")\n",
    "plt.axhline(limit, c = \"k\", lw = 2, ls = \"--\", label=\"Limit\")\n",
    "plt.legend(loc=\"lower right\")\n",
    "plt.xlim(1,M-1)"
   ]
  },
  {
   "cell_type": "markdown",
   "metadata": {},
   "source": [
    "As you can se the series gets very close to its limit very quickly!"
   ]
  },
  {
   "cell_type": "markdown",
   "metadata": {},
   "source": [
    "### Exercise\n",
    "#### 1.3\n",
    "\n",
    "Prove that the limit of $r^n$ is zero if $0 < r < 1$. In particular, for all $\\epsilon$ find a integer $N_\\epsilon$ such that for all $n > N_\\epsilon$:\n",
    "$$\n",
    "r^n < \\epsilon\n",
    "$$\n",
    "Hint: you need to use a logarithm. "
   ]
  },
  {
   "cell_type": "markdown",
   "metadata": {},
   "source": [
    "#### Example 2 (Infinite geometric sum with -1 < r < 0)\n",
    "\n",
    "When r is between -1 and 0, the infinite geometric series converges in an alternating manner:"
   ]
  },
  {
   "cell_type": "code",
   "execution_count": 13,
   "metadata": {},
   "outputs": [
    {
     "data": {
      "text/plain": [
       "(1, 39)"
      ]
     },
     "execution_count": 13,
     "metadata": {},
     "output_type": "execute_result"
    },
    {
     "data": {
      "image/png": "[encoded data removed]",
      "text/plain": [
       "<Figure size 432x288 with 1 Axes>"
      ]
     },
     "metadata": {
      "needs_background": "light"
     },
     "output_type": "display_data"
    }
   ],
   "source": [
    "r = -0.5\n",
    "S = lambda N: sum([r**n for n in range(N)])\n",
    "\n",
    "plt.scatter(int_range, [S(n) for n in int_range], c=\"k\", label=\"Sequence\")\n",
    "limit = 1/(1 - r)\n",
    "plt.fill_between(int_range, limit-epsilon1, limit+epsilon1, alpha = 0.2, color = \"b\", label=\"epsilon_1\")\n",
    "plt.fill_between(int_range, limit-epsilon2, limit+epsilon2, alpha = 0.2, color = \"r\", label=\"epsilon_2\")\n",
    "plt.fill_between(int_range, limit-epsilon3, limit+epsilon3, alpha = 0.4, color = \"g\", label=\"epsilon_3\")\n",
    "plt.axhline(limit, c = \"k\", lw = 2, ls = \"--\", label=\"Limit\")\n",
    "plt.legend(loc=\"upper right\")\n",
    "plt.xlim(1,M-1)"
   ]
  },
  {
   "cell_type": "markdown",
   "metadata": {},
   "source": [
    "#### Example 3 (Infinite geometric sum with r = -1)\n",
    "\n",
    "In this case the series keep oscillating between -1 and one and therefore it does not converge to any limit."
   ]
  },
  {
   "cell_type": "code",
   "execution_count": 16,
   "metadata": {},
   "outputs": [
    {
     "data": {
      "text/plain": [
       "(1, 39)"
      ]
     },
     "execution_count": 16,
     "metadata": {},
     "output_type": "execute_result"
    },
    {
     "data": {
      "image/png": "[encoded data removed]",
      "text/plain": [
       "<Figure size 432x288 with 1 Axes>"
      ]
     },
     "metadata": {
      "needs_background": "light"
     },
     "output_type": "display_data"
    }
   ],
   "source": [
    "r = -1\n",
    "S = lambda N: sum([r**n for n in range(N)])\n",
    "\n",
    "plt.scatter(int_range, [S(n) for n in int_range], c=\"k\", label=\"Sequence\")\n",
    "limit = 1/(1 - r)\n",
    "plt.fill_between(int_range, limit-epsilon1, limit+epsilon1, alpha = 0.2, color = \"b\", label=\"epsilon_1\")\n",
    "plt.fill_between(int_range, limit-epsilon2, limit+epsilon2, alpha = 0.2, color = \"r\", label=\"epsilon_2\")\n",
    "plt.fill_between(int_range, limit-epsilon3, limit+epsilon3, alpha = 0.4, color = \"g\", label=\"epsilon_3\")\n",
    "plt.axhline(limit, c = \"k\", lw = 2, ls = \"--\", label=\"Limit\")\n",
    "plt.legend(loc=\"upper right\")\n",
    "plt.xlim(1,M-1)"
   ]
  },
  {
   "cell_type": "markdown",
   "metadata": {},
   "source": [
    "Note that our formula gives $\\frac{1}{(1 - (-1))} = \\frac{1}{2}$ but the series definitly does not converge to this number! However, there is a deep connection between $\\frac{1}{2}$ and this series. This will become clear to you if you will delve deeper into mathematics (but not in this course!)"
   ]
  },
  {
   "cell_type": "markdown",
   "metadata": {},
   "source": [
    "#### Example 4 (Infinite geometric sum with r > 1)\n",
    "\n",
    "If r is bigger the one, the partial sum becomes bigger and bigger and the series does not converge!"
   ]
  },
  {
   "cell_type": "code",
   "execution_count": 18,
   "metadata": {},
   "outputs": [
    {
     "data": {
      "text/plain": [
       "(1, 39)"
      ]
     },
     "execution_count": 18,
     "metadata": {},
     "output_type": "execute_result"
    },
    {
     "data": {
      "image/png": "[encoded data removed]",
      "text/plain": [
       "<Figure size 432x288 with 1 Axes>"
      ]
     },
     "metadata": {
      "needs_background": "light"
     },
     "output_type": "display_data"
    }
   ],
   "source": [
    "r = 1.1\n",
    "S = lambda N: sum([r**n for n in range(N)])\n",
    "\n",
    "plt.scatter(int_range, [S(n) for n in int_range], c=\"k\", label=\"Sequence\")\n",
    "limit = 1/(1 - r)\n",
    "plt.fill_between(int_range, limit-epsilon1, limit+epsilon1, alpha = 0.2, color = \"b\", label=\"epsilon_1\")\n",
    "plt.fill_between(int_range, limit-epsilon2, limit+epsilon2, alpha = 0.2, color = \"r\", label=\"epsilon_2\")\n",
    "plt.fill_between(int_range, limit-epsilon3, limit+epsilon3, alpha = 0.4, color = \"g\", label=\"epsilon_3\")\n",
    "plt.axhline(limit, c = \"k\", lw = 2, ls = \"--\", label=\"Limit\")\n",
    "plt.legend(loc=\"upper left\")\n",
    "plt.xlim(1,M-1)"
   ]
  },
  {
   "cell_type": "markdown",
   "metadata": {},
   "source": [
    "### Exercises\n",
    "#### 1.4\n",
    "Find out if the following series are convergent and in that case find their value.\n",
    "\n",
    "**a)** $\\displaystyle\\sum_n^\\infty (0.6)^n$\n",
    "\n",
    "**b)** $\\displaystyle\\sum_n^\\infty 4 \\cdot (0.2)^n$\n",
    "\n",
    "**c)** $\\displaystyle\\sum_n^\\infty 0.1 \\cdot (-1.2)^n$\n"
   ]
  },
  {
   "cell_type": "markdown",
   "metadata": {},
   "source": [
    "## Bonus exercise (More difficult!)\n",
    "\n",
    "Show that the following (harmonic) series does not converge:\n",
    "\n",
    "$$\n",
    "\\displaystyle\\sum_{n=1}^\\infty \\dfrac{1}{n}\n",
    "$$"
   ]
  },
  {
   "cell_type": "code",
   "execution_count": 28,
   "metadata": {},
   "outputs": [
    {
     "data": {
      "text/plain": [
       "<matplotlib.collections.PathCollection at 0x7f9060f75a20>"
      ]
     },
     "execution_count": 28,
     "metadata": {},
     "output_type": "execute_result"
    },
    {
     "data": {
      "image/png": "[encoded data removed]",
      "text/plain": [
       "<Figure size 432x288 with 1 Axes>"
      ]
     },
     "metadata": {
      "needs_background": "light"
     },
     "output_type": "display_data"
    }
   ],
   "source": [
    "S = lambda N: sum([1/n for n in range(1, N)])\n",
    "\n",
    "plt.scatter(int_range, [S(n) for n in int_range], c=\"k\", label=\"Sequence\")"
   ]
  }
 ],
 "metadata": {
  "kernelspec": {
   "display_name": "Python 3 (ipykernel)",
   "language": "python",
   "name": "python3"
  },
  "language_info": {
   "codemirror_mode": {
    "name": "ipython",
    "version": 3
   },
   "file_extension": ".py",
   "mimetype": "text/x-python",
   "name": "python",
   "nbconvert_exporter": "python",
   "pygments_lexer": "ipython3",
   "version": "3.10.4"
  }
 },
 "nbformat": 4,
 "nbformat_minor": 4
}
